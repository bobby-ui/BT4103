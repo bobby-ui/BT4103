{
  "cells": [
    {
      "cell_type": "markdown",
      "metadata": {
        "id": "p4v8W2zSINSG"
      },
      "source": [
        "# Imports"
      ]
    },
    {
      "cell_type": "code",
      "execution_count": 1,
      "metadata": {
        "id": "Xc90cv5DHleF"
      },
      "outputs": [
        {
          "name": "stderr",
          "output_type": "stream",
          "text": [
            "[nltk_data] Downloading package stopwords to\n",
            "[nltk_data]     /Users/jiamingchu/nltk_data...\n",
            "[nltk_data]   Unzipping corpora/stopwords.zip.\n",
            "[nltk_data] Downloading package averaged_perceptron_tagger to\n",
            "[nltk_data]     /Users/jiamingchu/nltk_data...\n",
            "[nltk_data]   Package averaged_perceptron_tagger is already up-to-\n",
            "[nltk_data]       date!\n",
            "[nltk_data] Downloading package wordnet to\n",
            "[nltk_data]     /Users/jiamingchu/nltk_data...\n",
            "[nltk_data]   Package wordnet is already up-to-date!\n",
            "[nltk_data] Downloading package tagsets to\n",
            "[nltk_data]     /Users/jiamingchu/nltk_data...\n",
            "[nltk_data]   Unzipping help/tagsets.zip.\n"
          ]
        }
      ],
      "source": [
        "import numpy as np\n",
        "import pandas as pd\n",
        "import matplotlib.pyplot as plt\n",
        "import nltk\n",
        "nltk.download('stopwords')\n",
        "from nltk.tokenize import RegexpTokenizer\n",
        "from nltk.corpus import stopwords\n",
        "from nltk.tag import pos_tag\n",
        "nltk.download('averaged_perceptron_tagger')\n",
        "from nltk.corpus import wordnet\n",
        "nltk.download('wordnet')\n",
        "nltk.download('tagsets')\n",
        "from nltk.stem import WordNetLemmatizer\n",
        "import contractions\n",
        "\n",
        "from wordcloud import WordCloud\n",
        "from collections import Counter\n",
        "\n",
        "import os"
      ]
    },
    {
      "cell_type": "code",
      "execution_count": 54,
      "metadata": {},
      "outputs": [],
      "source": [
        "from sklearn.metrics import *\n",
        "from sklearn import preprocessing\n",
        "from sklearn import metrics\n",
        "from sklearn.linear_model import LogisticRegression\n",
        "from sklearn.svm import SVC\n",
        "from sklearn.neighbors import KNeighborsClassifier\n",
        "from sklearn.tree import DecisionTreeClassifier\n",
        "from sklearn.naive_bayes import GaussianNB\n",
        "from sklearn.ensemble import RandomForestClassifier \n",
        "from sklearn.model_selection import train_test_split\n",
        "import time\n",
        "#from xgboost import XGBClassifier\n",
        "#from xgboost import plot_importance\n",
        "from sklearn.metrics import recall_score"
      ]
    },
    {
      "cell_type": "markdown",
      "metadata": {
        "id": "_VNMhLMGITUu"
      },
      "source": [
        "# Import Dataset"
      ]
    },
    {
      "cell_type": "code",
      "execution_count": null,
      "metadata": {},
      "outputs": [],
      "source": [
        "def process_csv(csv_data):\n",
        "    # process csv data\n",
        "    df_source = f\"./data/{csv_data}\"\n",
        "    sample_data = pd.read_csv(df_source, skiprows=1)\n",
        "    df = pd.DataFrame(sample_data)\n",
        "    # print(df.head())\n",
        "    return\n",
        "# convert xlsx to csv format\n",
        "def excel_to_csv(excel_data):\n",
        "    xlsx_source = f\"./data/{excel_data}\"\n",
        "    csv_source = xlsx_source.replace(\".xlsx\", \".csv\")\n",
        "    read_file = pd.read_excel(xlsx_source)\n",
        "    read_file.to_csv(csv_source,index=None, header=True)\n",
        "    \n",
        "\n",
        "\n",
        "if __name__ == '__main__':\n",
        "    cwd = os.getcwd()\n",
        "    path = os.path.join(cwd, \"data\")\n",
        "    data = os.listdir(path)\n",
        "    excel_data = list(filter(lambda f: f.endswith('.xlsx'), data))\n",
        "    csv_data = list(filter(lambda f: f.endswith('.csv'), data))\n",
        "    # convert gui data from excel to csv\n",
        "    print(excel_data)\n",
        "    excel_to_csv(excel_data[0])\n",
        "    # args = sys.argv[1:]\n",
        "    # python process_csv.py <arguments>\n",
        "    # argument should be the path to the csv,\n",
        "    process_csv(csv_data[0])"
      ]
    },
    {
      "cell_type": "code",
      "execution_count": 27,
      "metadata": {},
      "outputs": [
        {
          "data": {
            "text/html": [
              "<div>\n",
              "<style scoped>\n",
              "    .dataframe tbody tr th:only-of-type {\n",
              "        vertical-align: middle;\n",
              "    }\n",
              "\n",
              "    .dataframe tbody tr th {\n",
              "        vertical-align: top;\n",
              "    }\n",
              "\n",
              "    .dataframe thead th {\n",
              "        text-align: right;\n",
              "    }\n",
              "</style>\n",
              "<table border=\"1\" class=\"dataframe\">\n",
              "  <thead>\n",
              "    <tr style=\"text-align: right;\">\n",
              "      <th></th>\n",
              "      <th>Test Lead</th>\n",
              "      <th>Why defect was not identifierd during testing?</th>\n",
              "      <th>Are related requirements recorded in the BR or UCS?</th>\n",
              "      <th>If prior response is \"Yes\", list down the BR or UCS document number(s) and clause identifier(s)</th>\n",
              "      <th>Primary Root Cause Classification #3</th>\n",
              "      <th>Remark</th>\n",
              "      <th>Proposed solution to prevent recurrence</th>\n",
              "    </tr>\n",
              "  </thead>\n",
              "  <tbody>\n",
              "    <tr>\n",
              "      <th>0</th>\n",
              "      <td>RS138 Test Lead - Jessie Chua\\nBS39 Test Lead ...</td>\n",
              "      <td>Test cases was not chosen in all tiers for con...</td>\n",
              "      <td>No</td>\n",
              "      <td>NaN</td>\n",
              "      <td>RS138 &amp; BS39\\nThe impact was documented in RS1...</td>\n",
              "      <td>NaN</td>\n",
              "      <td>More extensive testing required to uncover com...</td>\n",
              "    </tr>\n",
              "    <tr>\n",
              "      <th>1</th>\n",
              "      <td>Esther Ong</td>\n",
              "      <td>Test cases was not chosen based on the impact ...</td>\n",
              "      <td>No</td>\n",
              "      <td>NaN</td>\n",
              "      <td>Missing Test Case</td>\n",
              "      <td>NaN</td>\n",
              "      <td>Need to consider boundary conditions when deve...</td>\n",
              "    </tr>\n",
              "    <tr>\n",
              "      <th>2</th>\n",
              "      <td>Esther Ong</td>\n",
              "      <td>Test cases was not chosen based on the impact ...</td>\n",
              "      <td>Y</td>\n",
              "      <td>fp17001-epd-dd-004-abt-ticket_services_impleme...</td>\n",
              "      <td>Missing Test Case</td>\n",
              "      <td>NaN</td>\n",
              "      <td>review of test case created by developer and u...</td>\n",
              "    </tr>\n",
              "    <tr>\n",
              "      <th>3</th>\n",
              "      <td>Esther Ong</td>\n",
              "      <td>Issue not observed in Test Lab.</td>\n",
              "      <td>No</td>\n",
              "      <td>NaN</td>\n",
              "      <td>Test &amp; Production Environment Difference</td>\n",
              "      <td>NaN</td>\n",
              "      <td>design guideline and coding practice to update...</td>\n",
              "    </tr>\n",
              "    <tr>\n",
              "      <th>4</th>\n",
              "      <td>Esther Ong</td>\n",
              "      <td>Issue not observed in Test Lab.</td>\n",
              "      <td>No</td>\n",
              "      <td>NaN</td>\n",
              "      <td>Test &amp; Production Operation Difference</td>\n",
              "      <td>Ganga Prasad is no longer with FS</td>\n",
              "      <td>Fix has been delivered in BS40.\\n\\nUpdated dep...</td>\n",
              "    </tr>\n",
              "    <tr>\n",
              "      <th>5</th>\n",
              "      <td>Esther Ong</td>\n",
              "      <td>Issue not observed in Test Lab.</td>\n",
              "      <td>No</td>\n",
              "      <td>NaN</td>\n",
              "      <td>Test &amp; Production Environment Difference</td>\n",
              "      <td>Insource has resigned</td>\n",
              "      <td>1. Detailed analysis\\n2. Peer Review of the co...</td>\n",
              "    </tr>\n",
              "    <tr>\n",
              "      <th>6</th>\n",
              "      <td>Esther Ong</td>\n",
              "      <td>Issue not observed in Test Lab.</td>\n",
              "      <td>No</td>\n",
              "      <td>NaN</td>\n",
              "      <td>Test &amp; Production Operation Difference</td>\n",
              "      <td>Ganga Prasad is no longer with FS</td>\n",
              "      <td>Fix has been delivered in BS39P2.\\n\\nAutomated...</td>\n",
              "    </tr>\n",
              "    <tr>\n",
              "      <th>7</th>\n",
              "      <td>NaN</td>\n",
              "      <td>Issue not observed in Test Lab.</td>\n",
              "      <td>Issue 1\\nPGCT not receiving the blacklist from...</td>\n",
              "      <td>No</td>\n",
              "      <td>Test &amp; Production Environment Difference</td>\n",
              "      <td>NaN</td>\n",
              "      <td>NaN</td>\n",
              "    </tr>\n",
              "    <tr>\n",
              "      <th>8</th>\n",
              "      <td>when upgrade device application, ensure that t...</td>\n",
              "      <td>Test case not performed</td>\n",
              "      <td>Unexpected scenario case which is not handle b...</td>\n",
              "      <td>No</td>\n",
              "      <td>Missing Test Case</td>\n",
              "      <td>MSI</td>\n",
              "      <td>NaN</td>\n",
              "    </tr>\n",
              "    <tr>\n",
              "      <th>9</th>\n",
              "      <td>Esther Ong</td>\n",
              "      <td>Test cases was not chosen based on the impact ...</td>\n",
              "      <td>No</td>\n",
              "      <td>NaN</td>\n",
              "      <td>DR can only performed in TL device. Need TL an...</td>\n",
              "      <td>NaN</td>\n",
              "      <td>get more understanding of the api before using</td>\n",
              "    </tr>\n",
              "    <tr>\n",
              "      <th>10</th>\n",
              "      <td>Esther Ong</td>\n",
              "      <td>Test cases was not chosen based on the impact ...</td>\n",
              "      <td>No</td>\n",
              "      <td>NaN</td>\n",
              "      <td>Test &amp; Production Environment Difference</td>\n",
              "      <td>Insource has resigned</td>\n",
              "      <td>Include filtering by Service Provider. Replica...</td>\n",
              "    </tr>\n",
              "    <tr>\n",
              "      <th>11</th>\n",
              "      <td>Esther Ong</td>\n",
              "      <td>Test case not executed</td>\n",
              "      <td>No</td>\n",
              "      <td>NaN</td>\n",
              "      <td>Missing Test Case</td>\n",
              "      <td>NaN</td>\n",
              "      <td>To conduct another round of code review when r...</td>\n",
              "    </tr>\n",
              "    <tr>\n",
              "      <th>12</th>\n",
              "      <td>Esther Ong</td>\n",
              "      <td>Test case performed and defect observed but mi...</td>\n",
              "      <td>No</td>\n",
              "      <td>NaN</td>\n",
              "      <td>Missed raising the defect in ialm system</td>\n",
              "      <td>NaN</td>\n",
              "      <td>Issue has been fixed in production.\\nAdded fun...</td>\n",
              "    </tr>\n",
              "    <tr>\n",
              "      <th>13</th>\n",
              "      <td>Esther Ong</td>\n",
              "      <td>Test cases was not chosen based on the impact ...</td>\n",
              "      <td>No</td>\n",
              "      <td>NaN</td>\n",
              "      <td>Test &amp; Production Environment Difference</td>\n",
              "      <td>NaN</td>\n",
              "      <td>Issue has been fixed in production BS39P2. \\nW...</td>\n",
              "    </tr>\n",
              "    <tr>\n",
              "      <th>14</th>\n",
              "      <td>Esther Ong</td>\n",
              "      <td>Issue not observed in Test Lab.</td>\n",
              "      <td>No</td>\n",
              "      <td>NaN</td>\n",
              "      <td>Test &amp; Production Environment Difference</td>\n",
              "      <td>NaN</td>\n",
              "      <td>NaN</td>\n",
              "    </tr>\n",
              "    <tr>\n",
              "      <th>15</th>\n",
              "      <td>RS138 Test Lead - Jessie Chua\\nBS39 Test Lead ...</td>\n",
              "      <td>Test case was chosen only for certain ticket t...</td>\n",
              "      <td>No</td>\n",
              "      <td>NaN</td>\n",
              "      <td>Root Cause for missing test case\\nAs full test...</td>\n",
              "      <td>Insource has resigned</td>\n",
              "      <td>Consider more intensive testing for middleware...</td>\n",
              "    </tr>\n",
              "    <tr>\n",
              "      <th>16</th>\n",
              "      <td>Esther Ong</td>\n",
              "      <td>Issue not observed in Test Lab.</td>\n",
              "      <td>NaN</td>\n",
              "      <td>NaN</td>\n",
              "      <td>Test &amp; Production Operation Difference</td>\n",
              "      <td>NaN</td>\n",
              "      <td>NaN</td>\n",
              "    </tr>\n",
              "    <tr>\n",
              "      <th>17</th>\n",
              "      <td>Esther Ong</td>\n",
              "      <td>Issue not observed in Test Lab.</td>\n",
              "      <td>No</td>\n",
              "      <td>NaN</td>\n",
              "      <td>Test &amp; Production Environment Difference</td>\n",
              "      <td>NaN</td>\n",
              "      <td>Fix has been delivered in BS40.\\n\\nSolution is...</td>\n",
              "    </tr>\n",
              "    <tr>\n",
              "      <th>18</th>\n",
              "      <td>Esther Ong</td>\n",
              "      <td>Issue not observed in Test Lab.</td>\n",
              "      <td>No</td>\n",
              "      <td>NaN</td>\n",
              "      <td>Test &amp; Production Environment Difference</td>\n",
              "      <td>NaN</td>\n",
              "      <td>NaN</td>\n",
              "    </tr>\n",
              "  </tbody>\n",
              "</table>\n",
              "</div>"
            ],
            "text/plain": [
              "                                            Test Lead  \\\n",
              "0   RS138 Test Lead - Jessie Chua\\nBS39 Test Lead ...   \n",
              "1                                          Esther Ong   \n",
              "2                                          Esther Ong   \n",
              "3                                          Esther Ong   \n",
              "4                                          Esther Ong   \n",
              "5                                          Esther Ong   \n",
              "6                                          Esther Ong   \n",
              "7                                                 NaN   \n",
              "8   when upgrade device application, ensure that t...   \n",
              "9                                          Esther Ong   \n",
              "10                                         Esther Ong   \n",
              "11                                         Esther Ong   \n",
              "12                                         Esther Ong   \n",
              "13                                         Esther Ong   \n",
              "14                                         Esther Ong   \n",
              "15  RS138 Test Lead - Jessie Chua\\nBS39 Test Lead ...   \n",
              "16                                         Esther Ong   \n",
              "17                                         Esther Ong   \n",
              "18                                         Esther Ong   \n",
              "\n",
              "       Why defect was not identifierd during testing?  \\\n",
              "0   Test cases was not chosen in all tiers for con...   \n",
              "1   Test cases was not chosen based on the impact ...   \n",
              "2   Test cases was not chosen based on the impact ...   \n",
              "3                     Issue not observed in Test Lab.   \n",
              "4                     Issue not observed in Test Lab.   \n",
              "5                     Issue not observed in Test Lab.   \n",
              "6                     Issue not observed in Test Lab.   \n",
              "7                     Issue not observed in Test Lab.   \n",
              "8                             Test case not performed   \n",
              "9   Test cases was not chosen based on the impact ...   \n",
              "10  Test cases was not chosen based on the impact ...   \n",
              "11                             Test case not executed   \n",
              "12  Test case performed and defect observed but mi...   \n",
              "13  Test cases was not chosen based on the impact ...   \n",
              "14                    Issue not observed in Test Lab.   \n",
              "15  Test case was chosen only for certain ticket t...   \n",
              "16                    Issue not observed in Test Lab.   \n",
              "17                    Issue not observed in Test Lab.   \n",
              "18                    Issue not observed in Test Lab.   \n",
              "\n",
              "   Are related requirements recorded in the BR or UCS?  \\\n",
              "0                                                  No    \n",
              "1                                                  No    \n",
              "2                                                   Y    \n",
              "3                                                  No    \n",
              "4                                                  No    \n",
              "5                                                  No    \n",
              "6                                                  No    \n",
              "7   Issue 1\\nPGCT not receiving the blacklist from...    \n",
              "8   Unexpected scenario case which is not handle b...    \n",
              "9                                                  No    \n",
              "10                                                 No    \n",
              "11                                                 No    \n",
              "12                                                 No    \n",
              "13                                                 No    \n",
              "14                                                 No    \n",
              "15                                                 No    \n",
              "16                                                NaN    \n",
              "17                                                 No    \n",
              "18                                                 No    \n",
              "\n",
              "   If prior response is \"Yes\", list down the BR or UCS document number(s) and clause identifier(s)  \\\n",
              "0                                                 NaN                                                \n",
              "1                                                 NaN                                                \n",
              "2   fp17001-epd-dd-004-abt-ticket_services_impleme...                                                \n",
              "3                                                 NaN                                                \n",
              "4                                                 NaN                                                \n",
              "5                                                 NaN                                                \n",
              "6                                                 NaN                                                \n",
              "7                                                  No                                                \n",
              "8                                                  No                                                \n",
              "9                                                 NaN                                                \n",
              "10                                                NaN                                                \n",
              "11                                                NaN                                                \n",
              "12                                                NaN                                                \n",
              "13                                                NaN                                                \n",
              "14                                                NaN                                                \n",
              "15                                                NaN                                                \n",
              "16                                                NaN                                                \n",
              "17                                                NaN                                                \n",
              "18                                                NaN                                                \n",
              "\n",
              "                 Primary Root Cause Classification #3  \\\n",
              "0   RS138 & BS39\\nThe impact was documented in RS1...   \n",
              "1                                   Missing Test Case   \n",
              "2                                   Missing Test Case   \n",
              "3            Test & Production Environment Difference   \n",
              "4              Test & Production Operation Difference   \n",
              "5            Test & Production Environment Difference   \n",
              "6              Test & Production Operation Difference   \n",
              "7            Test & Production Environment Difference   \n",
              "8                                   Missing Test Case   \n",
              "9   DR can only performed in TL device. Need TL an...   \n",
              "10           Test & Production Environment Difference   \n",
              "11                                  Missing Test Case   \n",
              "12           Missed raising the defect in ialm system   \n",
              "13           Test & Production Environment Difference   \n",
              "14           Test & Production Environment Difference   \n",
              "15  Root Cause for missing test case\\nAs full test...   \n",
              "16             Test & Production Operation Difference   \n",
              "17           Test & Production Environment Difference   \n",
              "18           Test & Production Environment Difference   \n",
              "\n",
              "                               Remark  \\\n",
              "0                                 NaN   \n",
              "1                                 NaN   \n",
              "2                                 NaN   \n",
              "3                                 NaN   \n",
              "4   Ganga Prasad is no longer with FS   \n",
              "5               Insource has resigned   \n",
              "6   Ganga Prasad is no longer with FS   \n",
              "7                                 NaN   \n",
              "8                                 MSI   \n",
              "9                                 NaN   \n",
              "10              Insource has resigned   \n",
              "11                                NaN   \n",
              "12                                NaN   \n",
              "13                                NaN   \n",
              "14                                NaN   \n",
              "15              Insource has resigned   \n",
              "16                                NaN   \n",
              "17                                NaN   \n",
              "18                                NaN   \n",
              "\n",
              "              Proposed solution to prevent recurrence  \n",
              "0   More extensive testing required to uncover com...  \n",
              "1   Need to consider boundary conditions when deve...  \n",
              "2   review of test case created by developer and u...  \n",
              "3   design guideline and coding practice to update...  \n",
              "4   Fix has been delivered in BS40.\\n\\nUpdated dep...  \n",
              "5   1. Detailed analysis\\n2. Peer Review of the co...  \n",
              "6   Fix has been delivered in BS39P2.\\n\\nAutomated...  \n",
              "7                                                 NaN  \n",
              "8                                                 NaN  \n",
              "9      get more understanding of the api before using  \n",
              "10  Include filtering by Service Provider. Replica...  \n",
              "11  To conduct another round of code review when r...  \n",
              "12  Issue has been fixed in production.\\nAdded fun...  \n",
              "13  Issue has been fixed in production BS39P2. \\nW...  \n",
              "14                                                NaN  \n",
              "15  Consider more intensive testing for middleware...  \n",
              "16                                                NaN  \n",
              "17  Fix has been delivered in BS40.\\n\\nSolution is...  \n",
              "18                                                NaN  "
            ]
          },
          "execution_count": 27,
          "metadata": {},
          "output_type": "execute_result"
        }
      ],
      "source": [
        "test_col = ['Test Lead', \n",
        "            'Why defect was not identifierd during testing?', \n",
        "            'Are related requirements recorded in the BR or UCS?',\n",
        "            'If prior response is \\\"Yes\\\", list down the BR or UCS document number(s) and clause identifier(s)',\n",
        "            'Primary Root Cause Classification #3',\n",
        "            'Remark',\n",
        "            'Proposed solution to prevent recurrence']\n",
        "\n",
        "BS39_data = pd.read_excel(\"./data/BS39_data.xlsx\", skiprows=1)\n",
        "df = pd.DataFrame(BS39_data, columns=test_col)\n",
        "df"
      ]
    },
    {
      "attachments": {},
      "cell_type": "markdown",
      "metadata": {},
      "source": [
        "# EDA"
      ]
    },
    {
      "cell_type": "code",
      "execution_count": 28,
      "metadata": {
        "id": "hGlIIp3OIeDM"
      },
      "outputs": [
        {
          "name": "stdout",
          "output_type": "stream",
          "text": [
            "<class 'pandas.core.frame.DataFrame'>\n",
            "RangeIndex: 19 entries, 0 to 18\n",
            "Data columns (total 7 columns):\n",
            " #   Column                                                                                           Non-Null Count  Dtype \n",
            "---  ------                                                                                           --------------  ----- \n",
            " 0   Test Lead                                                                                        18 non-null     object\n",
            " 1   Why defect was not identifierd during testing?                                                   19 non-null     object\n",
            " 2   Are related requirements recorded in the BR or UCS?                                              18 non-null     object\n",
            " 3   If prior response is \"Yes\", list down the BR or UCS document number(s) and clause identifier(s)  3 non-null      object\n",
            " 4   Primary Root Cause Classification #3                                                             19 non-null     object\n",
            " 5   Remark                                                                                           6 non-null      object\n",
            " 6   Proposed solution to prevent recurrence                                                          14 non-null     object\n",
            "dtypes: object(7)\n",
            "memory usage: 1.2+ KB\n"
          ]
        }
      ],
      "source": [
        "df.info()"
      ]
    },
    {
      "cell_type": "code",
      "execution_count": 52,
      "metadata": {},
      "outputs": [
        {
          "name": "stdout",
          "output_type": "stream",
          "text": [
            "Issue not observed in Test Lab.                       9\n",
            "Test cases was not chosen based on the impact anal    5\n",
            "Test cases was not chosen in all tiers for concess    1\n",
            "Test case not performed                               1\n",
            "Test case not executed                                1\n",
            "Test case performed and defect observed but missed    1\n",
            "Test case was chosen only for certain ticket types    1\n",
            "Name: Why defect was not identifierd during testing?, dtype: int64\n"
          ]
        },
        {
          "data": {
            "text/plain": [
              "<AxesSubplot:>"
            ]
          },
          "execution_count": 52,
          "metadata": {},
          "output_type": "execute_result"
        },
        {
          "data": {
            "image/png": "[encoded data removed]",
            "text/plain": [
              "<Figure size 432x288 with 1 Axes>"
            ]
          },
          "metadata": {
            "needs_background": "light"
          },
          "output_type": "display_data"
        }
      ],
      "source": [
        "reasons = df['Why defect was not identifierd during testing?']\n",
        "reasons = reasons.apply(lambda x: x[:50])\n",
        "print(reasons.value_counts())\n",
        "reasons.value_counts().sort_values().plot(kind='barh', )"
      ]
    },
    {
      "cell_type": "code",
      "execution_count": 16,
      "metadata": {},
      "outputs": [
        {
          "name": "stdout",
          "output_type": "stream",
          "text": [
            "Test & Production Environment Difference     8\n",
            "Missing Test Case                            4\n",
            "Test & Production Operation Difference       3\n",
            "RS138 & BS39\\nThe impact was documented i    1\n",
            "DR can only performed in TL device. Need     1\n",
            "Missed raising the defect in ialm system     1\n",
            "Root Cause for missing test case\\nAs full    1\n",
            "Name: Primary Root Cause Classification #3, dtype: int64\n"
          ]
        },
        {
          "data": {
            "text/plain": [
              "<AxesSubplot:>"
            ]
          },
          "execution_count": 16,
          "metadata": {},
          "output_type": "execute_result"
        },
        {
          "data": {
            "image/png": "[encoded data removed]",
            "text/plain": [
              "<Figure size 432x288 with 1 Axes>"
            ]
          },
          "metadata": {
            "needs_background": "light"
          },
          "output_type": "display_data"
        }
      ],
      "source": [
        "root_causes = df['Primary Root Cause Classification #3']\n",
        "root_causes = root_causes.apply(lambda x: x[:40])\n",
        "print(root_causes.value_counts())\n",
        "root_causes.value_counts().sort_values().plot(kind='barh', )"
      ]
    },
    {
      "attachments": {},
      "cell_type": "markdown",
      "metadata": {},
      "source": [
        "It appears that the largest reason why the defect happened is due to Test and Production Environment Difference, followed by Missing Test Case."
      ]
    },
    {
      "attachments": {},
      "cell_type": "markdown",
      "metadata": {},
      "source": [
        "# Data Cleaning"
      ]
    },
    {
      "attachments": {},
      "cell_type": "markdown",
      "metadata": {},
      "source": [
        "New column \"uncaught reasons\" -- Why defect was not identified during testing\n",
        "\n",
        "We want to identify the keywords from this column that can allow us to pinpoint the underlying root cause.\n",
        "Example:\n",
        "\n",
        "Tester input: use case was not documented, so the feature is unknown to the testers, so they didn’t design with it in mind.\n",
        "\n",
        "map above to:\n",
        "\n",
        "Root cause: ‘Missing requirement’\n",
        "\n",
        "To do this, we first have to clean the text in the column to ensure that the keywords are as similar as possible (to ensure highest chance of mapping correctly)."
      ]
    },
    {
      "cell_type": "code",
      "execution_count": 29,
      "metadata": {},
      "outputs": [
        {
          "data": {
            "text/plain": [
              "0    Test cases was not chosen in all tiers for con...\n",
              "1    Test cases was not chosen based on the impact ...\n",
              "2    Test cases was not chosen based on the impact ...\n",
              "3                      Issue not observed in Test Lab.\n",
              "4                      Issue not observed in Test Lab.\n",
              "Name: uncaught_reasons, dtype: object"
            ]
          },
          "execution_count": 29,
          "metadata": {},
          "output_type": "execute_result"
        }
      ],
      "source": [
        "df['uncaught_reasons'] = df['Why defect was not identifierd during testing?']\n",
        "df['uncaught_reasons'].head()"
      ]
    },
    {
      "cell_type": "code",
      "execution_count": 40,
      "metadata": {},
      "outputs": [
        {
          "data": {
            "text/plain": [
              "0     [test, case, choose, tier, concession, period,...\n",
              "1          [test, case, choose, base, impact, analysis]\n",
              "2          [test, case, choose, base, impact, analysis]\n",
              "3                           [issue, observe, test, lab]\n",
              "4                           [issue, observe, test, lab]\n",
              "5                           [issue, observe, test, lab]\n",
              "6                           [issue, observe, test, lab]\n",
              "7                           [issue, observe, test, lab]\n",
              "8                                 [test, case, perform]\n",
              "9          [test, case, choose, base, impact, analysis]\n",
              "10         [test, case, choose, base, impact, analysis]\n",
              "11                                [test, case, execute]\n",
              "12    [test, case, perform, defect, observe, missed,...\n",
              "13         [test, case, choose, base, impact, analysis]\n",
              "14                          [issue, observe, test, lab]\n",
              "15    [test, case, choose, certain, ticket, type, ba...\n",
              "16                          [issue, observe, test, lab]\n",
              "17                          [issue, observe, test, lab]\n",
              "18                          [issue, observe, test, lab]\n",
              "Name: Processed Text, dtype: object"
            ]
          },
          "execution_count": 40,
          "metadata": {},
          "output_type": "execute_result"
        }
      ],
      "source": [
        "def get_pos(tag):\n",
        "    if tag[0] == 'N':\n",
        "        return wordnet.NOUN\n",
        "    elif tag[0] == 'V':\n",
        "        return wordnet.VERB\n",
        "    elif tag[0] == 'R':\n",
        "        return wordnet.ADV\n",
        "    elif tag[0] == 'J':\n",
        "        return wordnet.ADJ\n",
        "    return wordnet.NOUN\n",
        "\n",
        "def processText(sentence):\n",
        "    #tokenize\n",
        "    tokenizer = RegexpTokenizer('\\w+|\\$[\\d\\.]+')\n",
        "    tokens = tokenizer.tokenize(sentence.lower())\n",
        "\n",
        "    # fix contractions\n",
        "    fixed_tokens = [contractions.fix(word) for word in tokens]\n",
        "\n",
        "    #remove stopwords\n",
        "    useful_words = [word for word in fixed_tokens if word not in stopwords.words('english')]\n",
        "\n",
        "    #pos tagging\n",
        "    pos_tuple = pos_tag(useful_words)\n",
        "    \n",
        "    #lemmatization\n",
        "    lemmatizer = WordNetLemmatizer()\n",
        "    lemmatized_tokens = [lemmatizer.lemmatize(tup[0], get_pos(tup[1])) for ind, tup in enumerate(pos_tuple)]\n",
        "\n",
        "    return lemmatized_tokens\n",
        "\n",
        "df['Processed Text'] = df['Why defect was not identifierd during testing?'].apply(lambda x: processText(x))\n",
        "df['Processed Text'] "
      ]
    },
    {
      "cell_type": "code",
      "execution_count": 50,
      "metadata": {},
      "outputs": [
        {
          "name": "stdout",
          "output_type": "stream",
          "text": [
            "Before processing:  Test case performed and defect observed but missed raising the defect.\n",
            "After processing:  ['test', 'case', 'perform', 'defect', 'observe', 'missed', 'raise', 'defect']\n"
          ]
        }
      ],
      "source": [
        "# some comparison before and after preprocessing to check for accuracy\n",
        "print(\"Before processing: \", df['Why defect was not identifierd during testing?'][12])\n",
        "print(\"After processing: \", df['Processed Text'][12])"
      ]
    },
    {
      "cell_type": "code",
      "execution_count": 74,
      "metadata": {},
      "outputs": [],
      "source": [
        "# combine all processed words in an array\n",
        "all_processed_words = []\n",
        "df['Processed Text'].apply(lambda x: all_processed_words.extend(x))\n",
        "\n",
        "# create dictionary with counter of each words\n",
        "word_could_dict=Counter(all_processed_words)"
      ]
    },
    {
      "cell_type": "code",
      "execution_count": 75,
      "metadata": {},
      "outputs": [
        {
          "data": {
            "image/png": "[encoded data removed]",
            "text/plain": [
              "<Figure size 432x288 with 1 Axes>"
            ]
          },
          "metadata": {
            "needs_background": "light"
          },
          "output_type": "display_data"
        },
        {
          "data": {
            "text/plain": [
              "Counter({'test': 20,\n",
              "         'case': 11,\n",
              "         'choose': 7,\n",
              "         'tier': 1,\n",
              "         'concession': 1,\n",
              "         'period': 1,\n",
              "         'pas': 1,\n",
              "         'base': 8,\n",
              "         'impact': 7,\n",
              "         'analysis': 7,\n",
              "         'issue': 9,\n",
              "         'observe': 10,\n",
              "         'lab': 9,\n",
              "         'perform': 2,\n",
              "         'execute': 1,\n",
              "         'defect': 2,\n",
              "         'missed': 1,\n",
              "         'raise': 1,\n",
              "         'certain': 1,\n",
              "         'ticket': 1,\n",
              "         'type': 1})"
            ]
          },
          "execution_count": 75,
          "metadata": {},
          "output_type": "execute_result"
        }
      ],
      "source": [
        "ignore_words = []\n",
        "wc = WordCloud(max_font_size=50, max_words=100, background_color=\"white\", stopwords = ignore_words, collocations=False).generate_from_frequencies(word_could_dict)\n",
        "plt.figure()\n",
        "plt.title(\"Processed Text - Wordcloud\")\n",
        "plt.imshow(wc, interpolation=\"bilinear\")\n",
        "plt.axis(\"off\")\n",
        "plt.show()\n",
        "# print(sorted(word_could_dict, key=word_could_dict.get, reverse=True)[:5])\n",
        "word_could_dict"
      ]
    },
    {
      "attachments": {},
      "cell_type": "markdown",
      "metadata": {},
      "source": [
        "# NLP Model for Textual Classification"
      ]
    },
    {
      "attachments": {},
      "cell_type": "markdown",
      "metadata": {},
      "source": [
        "Everytime a defect occurs, testers will record down the reasons why it was not identified testing and subsequently come up with the root cause for the defect.\n",
        "\n",
        "Goal: The purpose of this model is to take in input (reasons for defects) from testers and generate the most appropriate root cause, be it a root cause observed before, or an entirely new root cause.\n",
        "\n",
        "Stretch goal: Take in conversations data (in text) from testers and teams, and identify the reasons for defects among the noise. This could be done using TF-IDF, as well as weighting of important keywords from previous inputs/root causes."
      ]
    },
    {
      "cell_type": "code",
      "execution_count": 55,
      "metadata": {},
      "outputs": [
        {
          "ename": "ValueError",
          "evalue": "The least populated class in y has only 1 member, which is too few. The minimum number of groups for any class cannot be less than 2.",
          "output_type": "error",
          "traceback": [
            "\u001b[0;31m---------------------------------------------------------------------------\u001b[0m",
            "\u001b[0;31mValueError\u001b[0m                                Traceback (most recent call last)",
            "\u001b[0;32m/var/folders/w4/431dql0d17q96h2q01xdnsyh0000gn/T/ipykernel_50019/759735635.py\u001b[0m in \u001b[0;36m<module>\u001b[0;34m\u001b[0m\n\u001b[1;32m      4\u001b[0m \u001b[0mX\u001b[0m \u001b[0;34m=\u001b[0m \u001b[0mdf\u001b[0m\u001b[0;34m[\u001b[0m\u001b[0;34m'Processed Text'\u001b[0m\u001b[0;34m]\u001b[0m\u001b[0;34m\u001b[0m\u001b[0;34m\u001b[0m\u001b[0m\n\u001b[1;32m      5\u001b[0m \u001b[0mY\u001b[0m \u001b[0;34m=\u001b[0m \u001b[0mdf\u001b[0m\u001b[0;34m[\u001b[0m\u001b[0;34m'Primary Root Cause Classification #3'\u001b[0m\u001b[0;34m]\u001b[0m\u001b[0;34m\u001b[0m\u001b[0;34m\u001b[0m\u001b[0m\n\u001b[0;32m----> 6\u001b[0;31m \u001b[0mX_train\u001b[0m\u001b[0;34m,\u001b[0m \u001b[0mX_test\u001b[0m\u001b[0;34m,\u001b[0m \u001b[0mY_train\u001b[0m\u001b[0;34m,\u001b[0m \u001b[0mY_test\u001b[0m \u001b[0;34m=\u001b[0m \u001b[0mtrain_test_split\u001b[0m\u001b[0;34m(\u001b[0m\u001b[0mX\u001b[0m\u001b[0;34m,\u001b[0m \u001b[0mY\u001b[0m\u001b[0;34m,\u001b[0m \u001b[0mtest_size\u001b[0m\u001b[0;34m=\u001b[0m\u001b[0;36m0.25\u001b[0m\u001b[0;34m,\u001b[0m \u001b[0mshuffle\u001b[0m\u001b[0;34m=\u001b[0m\u001b[0;32mTrue\u001b[0m\u001b[0;34m,\u001b[0m \u001b[0mstratify\u001b[0m \u001b[0;34m=\u001b[0m \u001b[0mY\u001b[0m\u001b[0;34m)\u001b[0m\u001b[0;34m\u001b[0m\u001b[0;34m\u001b[0m\u001b[0m\n\u001b[0m",
            "\u001b[0;32m~/opt/anaconda3/lib/python3.9/site-packages/sklearn/model_selection/_split.py\u001b[0m in \u001b[0;36mtrain_test_split\u001b[0;34m(test_size, train_size, random_state, shuffle, stratify, *arrays)\u001b[0m\n\u001b[1;32m   2195\u001b[0m                      random_state=random_state)\n\u001b[1;32m   2196\u001b[0m \u001b[0;34m\u001b[0m\u001b[0m\n\u001b[0;32m-> 2197\u001b[0;31m         \u001b[0mtrain\u001b[0m\u001b[0;34m,\u001b[0m \u001b[0mtest\u001b[0m \u001b[0;34m=\u001b[0m \u001b[0mnext\u001b[0m\u001b[0;34m(\u001b[0m\u001b[0mcv\u001b[0m\u001b[0;34m.\u001b[0m\u001b[0msplit\u001b[0m\u001b[0;34m(\u001b[0m\u001b[0mX\u001b[0m\u001b[0;34m=\u001b[0m\u001b[0marrays\u001b[0m\u001b[0;34m[\u001b[0m\u001b[0;36m0\u001b[0m\u001b[0;34m]\u001b[0m\u001b[0;34m,\u001b[0m \u001b[0my\u001b[0m\u001b[0;34m=\u001b[0m\u001b[0mstratify\u001b[0m\u001b[0;34m)\u001b[0m\u001b[0;34m)\u001b[0m\u001b[0;34m\u001b[0m\u001b[0;34m\u001b[0m\u001b[0m\n\u001b[0m\u001b[1;32m   2198\u001b[0m \u001b[0;34m\u001b[0m\u001b[0m\n\u001b[1;32m   2199\u001b[0m     return list(chain.from_iterable((_safe_indexing(a, train),\n",
            "\u001b[0;32m~/opt/anaconda3/lib/python3.9/site-packages/sklearn/model_selection/_split.py\u001b[0m in \u001b[0;36msplit\u001b[0;34m(self, X, y, groups)\u001b[0m\n\u001b[1;32m   1385\u001b[0m         \"\"\"\n\u001b[1;32m   1386\u001b[0m         \u001b[0mX\u001b[0m\u001b[0;34m,\u001b[0m \u001b[0my\u001b[0m\u001b[0;34m,\u001b[0m \u001b[0mgroups\u001b[0m \u001b[0;34m=\u001b[0m \u001b[0mindexable\u001b[0m\u001b[0;34m(\u001b[0m\u001b[0mX\u001b[0m\u001b[0;34m,\u001b[0m \u001b[0my\u001b[0m\u001b[0;34m,\u001b[0m \u001b[0mgroups\u001b[0m\u001b[0;34m)\u001b[0m\u001b[0;34m\u001b[0m\u001b[0;34m\u001b[0m\u001b[0m\n\u001b[0;32m-> 1387\u001b[0;31m         \u001b[0;32mfor\u001b[0m \u001b[0mtrain\u001b[0m\u001b[0;34m,\u001b[0m \u001b[0mtest\u001b[0m \u001b[0;32min\u001b[0m \u001b[0mself\u001b[0m\u001b[0;34m.\u001b[0m\u001b[0m_iter_indices\u001b[0m\u001b[0;34m(\u001b[0m\u001b[0mX\u001b[0m\u001b[0;34m,\u001b[0m \u001b[0my\u001b[0m\u001b[0;34m,\u001b[0m \u001b[0mgroups\u001b[0m\u001b[0;34m)\u001b[0m\u001b[0;34m:\u001b[0m\u001b[0;34m\u001b[0m\u001b[0;34m\u001b[0m\u001b[0m\n\u001b[0m\u001b[1;32m   1388\u001b[0m             \u001b[0;32myield\u001b[0m \u001b[0mtrain\u001b[0m\u001b[0;34m,\u001b[0m \u001b[0mtest\u001b[0m\u001b[0;34m\u001b[0m\u001b[0;34m\u001b[0m\u001b[0m\n\u001b[1;32m   1389\u001b[0m \u001b[0;34m\u001b[0m\u001b[0m\n",
            "\u001b[0;32m~/opt/anaconda3/lib/python3.9/site-packages/sklearn/model_selection/_split.py\u001b[0m in \u001b[0;36m_iter_indices\u001b[0;34m(self, X, y, groups)\u001b[0m\n\u001b[1;32m   1713\u001b[0m         \u001b[0mclass_counts\u001b[0m \u001b[0;34m=\u001b[0m \u001b[0mnp\u001b[0m\u001b[0;34m.\u001b[0m\u001b[0mbincount\u001b[0m\u001b[0;34m(\u001b[0m\u001b[0my_indices\u001b[0m\u001b[0;34m)\u001b[0m\u001b[0;34m\u001b[0m\u001b[0;34m\u001b[0m\u001b[0m\n\u001b[1;32m   1714\u001b[0m         \u001b[0;32mif\u001b[0m \u001b[0mnp\u001b[0m\u001b[0;34m.\u001b[0m\u001b[0mmin\u001b[0m\u001b[0;34m(\u001b[0m\u001b[0mclass_counts\u001b[0m\u001b[0;34m)\u001b[0m \u001b[0;34m<\u001b[0m \u001b[0;36m2\u001b[0m\u001b[0;34m:\u001b[0m\u001b[0;34m\u001b[0m\u001b[0;34m\u001b[0m\u001b[0m\n\u001b[0;32m-> 1715\u001b[0;31m             raise ValueError(\"The least populated class in y has only 1\"\n\u001b[0m\u001b[1;32m   1716\u001b[0m                              \u001b[0;34m\" member, which is too few. The minimum\"\u001b[0m\u001b[0;34m\u001b[0m\u001b[0;34m\u001b[0m\u001b[0m\n\u001b[1;32m   1717\u001b[0m                              \u001b[0;34m\" number of groups for any class cannot\"\u001b[0m\u001b[0;34m\u001b[0m\u001b[0;34m\u001b[0m\u001b[0m\n",
            "\u001b[0;31mValueError\u001b[0m: The least populated class in y has only 1 member, which is too few. The minimum number of groups for any class cannot be less than 2."
          ]
        }
      ],
      "source": [
        "# X : reasons for defects\n",
        "# Y : root causes\n",
        "\n",
        "X = df['Processed Text']\n",
        "Y = df['Primary Root Cause Classification #3']\n",
        "X_train, X_test, Y_train, Y_test = train_test_split(X, Y, test_size=0.25, shuffle=True, stratify = Y)"
      ]
    },
    {
      "cell_type": "code",
      "execution_count": null,
      "metadata": {},
      "outputs": [],
      "source": [
        "# define the multinomial logistic regression model\n",
        "model = LogisticRegression(multi_class='multinomial', solver='lbfgs')\n",
        "# define the model evaluation procedure\n",
        "cv = RepeatedStratifiedKFold(n_splits=10, n_repeats=3, random_state=1)\n",
        "# evaluate the model and collect the scores\n",
        "n_scores = cross_val_score(model, X, y, scoring='accuracy', cv=cv, n_jobs=-1)\n",
        "# report the model performance\n",
        "print('Mean Accuracy: %.3f (%.3f)' % (np.mean(n_scores), np.std(n_scores)))"
      ]
    },
    {
      "attachments": {},
      "cell_type": "markdown",
      "metadata": {},
      "source": [
        "# Analysis on Root Causes"
      ]
    },
    {
      "cell_type": "markdown",
      "metadata": {},
      "source": []
    }
  ],
  "metadata": {
    "colab": {
      "provenance": []
    },
    "kernelspec": {
      "display_name": "Python 3 (ipykernel)",
      "language": "python",
      "name": "python3"
    },
    "language_info": {
      "codemirror_mode": {
        "name": "ipython",
        "version": 3
      },
      "file_extension": ".py",
      "mimetype": "text/x-python",
      "name": "python",
      "nbconvert_exporter": "python",
      "pygments_lexer": "ipython3",
      "version": "3.9.7"
    },
    "vscode": {
      "interpreter": {
        "hash": "55d22b35260bbaa19b38484025ecfa8720a645bca7c60f3a527ee7e8e11307f6"
      }
    }
  },
  "nbformat": 4,
  "nbformat_minor": 0
}
