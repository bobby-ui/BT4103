{
  "cells": [
    {
      "cell_type": "markdown",
      "metadata": {
        "id": "p4v8W2zSINSG"
      },
      "source": [
        "# Imports"
      ]
    },
    {
      "cell_type": "code",
      "execution_count": 15,
      "metadata": {
        "id": "Xc90cv5DHleF"
      },
      "outputs": [],
      "source": [
        "import numpy as np\n",
        "import pandas as pd\n",
        "import matplotlib.pyplot as plt\n",
        "import nltk\n",
        "from nltk.corpus import stopwords\n",
        "from nltk.corpus import wordnet\n",
        "from nltk.stem import WordNetLemmatizer\n",
        "from nltk import pos_tag\n",
        "import string\n",
        "import re\n",
        "# import contractions\n",
        "\n",
        "import os\n",
        "import json\n",
        "import shutil\n",
        "import sys"
      ]
    },
    {
      "cell_type": "markdown",
      "metadata": {
        "id": "_VNMhLMGITUu"
      },
      "source": [
        "# Import Dataset"
      ]
    },
    {
      "cell_type": "code",
      "execution_count": null,
      "metadata": {},
      "outputs": [],
      "source": [
        "def process_csv(csv_data):\n",
        "    # process csv data\n",
        "    df_source = f\"./data/{csv_data}\"\n",
        "    sample_data = pd.read_csv(df_source, skiprows=1)\n",
        "    df = pd.DataFrame(sample_data)\n",
        "    # print(df.head())\n",
        "    return\n",
        "# convert xlsx to csv format\n",
        "def excel_to_csv(excel_data):\n",
        "    xlsx_source = f\"./data/{excel_data}\"\n",
        "    csv_source = xlsx_source.replace(\".xlsx\", \".csv\")\n",
        "    read_file = pd.read_excel(xlsx_source)\n",
        "    read_file.to_csv(csv_source,index=None, header=True)\n",
        "    \n",
        "\n",
        "\n",
        "if __name__ == '__main__':\n",
        "    cwd = os.getcwd()\n",
        "    path = os.path.join(cwd, \"data\")\n",
        "    data = os.listdir(path)\n",
        "    excel_data = list(filter(lambda f: f.endswith('.xlsx'), data))\n",
        "    csv_data = list(filter(lambda f: f.endswith('.csv'), data))\n",
        "    # convert gui data from excel to csv\n",
        "    print(excel_data)\n",
        "    excel_to_csv(excel_data[0])\n",
        "    # args = sys.argv[1:]\n",
        "    # python process_csv.py <arguments>\n",
        "    # argument should be the path to the csv,\n",
        "    process_csv(csv_data[0])"
      ]
    },
    {
      "cell_type": "code",
      "execution_count": 4,
      "metadata": {
        "colab": {
          "base_uri": "https://localhost:8080/",
          "height": 358
        },
        "id": "88zWsDd5IPiv",
        "outputId": "869d5274-12d0-419d-c35d-b946443337b4"
      },
      "outputs": [
        {
          "name": "stdout",
          "output_type": "stream",
          "text": [
            "     Item Id Submit Date                                              Title  \\\n",
            "0  DEF016683    4/3/2022  INC_00023776 - TA Deferred Refund - error enco...   \n",
            "1  DEF016763   23/3/2022  PWD/WTCS Concession Pilot Users PWD fare is ch...   \n",
            "2  DEF016766   24/3/2022  [BS39] - CT-CC - Devices allow to buy concessi...   \n",
            "3  DEF016770   29/3/2022  INC_00024000 : SMRT : Nets inventory is showin...   \n",
            "4  DEF016775   31/3/2022  [ABT][SYSS]EOD0000331 job doesn't have depende...   \n",
            "\n",
            "                                         Description Phase Found      State  \\\n",
            "0  Test Steps:\\n \\nExpected Result:\\n \\nActual Re...  Production     Closed   \n",
            "1  Test Steps:\\n \\nExpected Result:\\n \\nActual Re...  Production     Closed   \n",
            "2  Test Steps:\\n1. Set the ticket type 1 to expir...  Production     Closed   \n",
            "3  Nets inventory is showing inaccuracy informati...  Production     Closed   \n",
            "4  Test Steps:\\n\\n\\n1. Ensure EOD0000413(CTC Post...  Production  Scheduled   \n",
            "\n",
            "  Severity Module/Device Type Text Module/Device Varient OIC Team Default  \\\n",
            "0    CAT B             Application                  CMSE              BOS   \n",
            "1    CAT B        TABA Application             TABA.TXNP              BOS   \n",
            "2    CAT B                     GTM                   CTK              DMT   \n",
            "3    CAT B                     PSM                 PSM 4              DMT   \n",
            "4    CAT B        TABA Application             TABA.SYSS              BOS   \n",
            "\n",
            "   ... Primary Root Cause Classification #2 Remark.1  \\\n",
            "0  ...                   Product Limitation      NaN   \n",
            "1  ...                          Logic Error      NaN   \n",
            "2  ...                                  NaN      NaN   \n",
            "3  ...                          Logic Error      NaN   \n",
            "4  ...                          Logic Error      NaN   \n",
            "\n",
            "             Proposed solution to prevent recurrence  \\\n",
            "0  More extensive testing required to uncover com...   \n",
            "1  Need to consider boundary conditions when deve...   \n",
            "2  review of test case created by developer and u...   \n",
            "3  design guideline and coding practice to update...   \n",
            "4  Fix has been delivered in BS40.\\n\\nUpdated dep...   \n",
            "\n",
            "                                           Test Lead  \\\n",
            "0  RS138 Test Lead - Jessie Chua\\nBS39 Test Lead ...   \n",
            "1                                         Esther Ong   \n",
            "2                                         Esther Ong   \n",
            "3                                         Esther Ong   \n",
            "4                                         Esther Ong   \n",
            "\n",
            "      Why defect was not identifierd during testing?  \\\n",
            "0  Test cases was not chosen in all tiers for con...   \n",
            "1  Test cases was not chosen based on the impact ...   \n",
            "2  Test cases was not chosen based on the impact ...   \n",
            "3                    Issue not observed in Test Lab.   \n",
            "4                    Issue not observed in Test Lab.   \n",
            "\n",
            "  Are related requirements recorded in the BR or UCS?.1  \\\n",
            "0                                                Yes      \n",
            "1                                                Yes      \n",
            "2                                                Yes      \n",
            "3                                                Yes      \n",
            "4                                                 No      \n",
            "\n",
            "  If prior response is \"Yes\", list down the BR or UCS document number(s) and clause identifier(s).1  \\\n",
            "0                                 L1081/SYS/BRUL/036                                                  \n",
            "1                                                NaN                                                  \n",
            "2                                                NaN                                                  \n",
            "3                                                NaN                                                  \n",
            "4                                                NaN                                                  \n",
            "\n",
            "                Primary Root Cause Classification #3 Remark.2  \\\n",
            "0  RS138 & BS39\\nThe impact was documented in RS1...      NaN   \n",
            "1                                  Missing Test Case      NaN   \n",
            "2                                  Missing Test Case      NaN   \n",
            "3           Test & Production Environment Difference      NaN   \n",
            "4             Test & Production Operation Difference      NaN   \n",
            "\n",
            "           Proposed solution to prevent recurrence.1  \n",
            "0  Test Activities (BS & RS)\\nFormalise the detai...  \n",
            "1   To increase test coverage for concession card \\n  \n",
            "2    To increase test coverage for concession card\\n  \n",
            "3  To in-synch FT parameters with production para...  \n",
            "4  Dev to provide root cause analysis on how the ...  \n",
            "\n",
            "[5 rows x 33 columns]\n"
          ]
        }
      ],
      "source": [
        "# sample_data = pd.read_csv(\"./data/BS39_cause_effect_defect_data.csv\", skiprows= 1)\n",
        "# df = pd.DataFrame(sample_data)\n",
        "# print(df.head())"
      ]
    },
    {
      "attachments": {},
      "cell_type": "markdown",
      "metadata": {},
      "source": [
        "# EDA"
      ]
    },
    {
      "cell_type": "code",
      "execution_count": 4,
      "metadata": {
        "id": "hGlIIp3OIeDM"
      },
      "outputs": [
        {
          "name": "stdout",
          "output_type": "stream",
          "text": [
            "<class 'pandas.core.frame.DataFrame'>\n",
            "RangeIndex: 19 entries, 0 to 18\n",
            "Data columns (total 33 columns):\n",
            " #   Column                                                                                             Non-Null Count  Dtype  \n",
            "---  ------                                                                                             --------------  -----  \n",
            " 0   Item Id                                                                                            19 non-null     object \n",
            " 1   Submit Date                                                                                        19 non-null     object \n",
            " 2   Title                                                                                              19 non-null     object \n",
            " 3   Description                                                                                        19 non-null     object \n",
            " 4   Phase Found                                                                                        19 non-null     object \n",
            " 5   State                                                                                              19 non-null     object \n",
            " 6   Severity                                                                                           19 non-null     object \n",
            " 7   Module/Device Type Text                                                                            19 non-null     object \n",
            " 8   Module/Device Varient                                                                              19 non-null     object \n",
            " 9   OIC Team Default                                                                                   19 non-null     object \n",
            " 10  Software Version                                                                                   15 non-null     object \n",
            " 11  Defect Owner                                                                                       19 non-null     object \n",
            " 12  Associated Prj                                                                                     19 non-null     object \n",
            " 13  Name                                                                                               9 non-null      object \n",
            " 14  Organisation\n",
            "[e.g. LTA-FS,\n",
            "LTA-FS-Insource,\n",
            "MSI, IBM, etc]                                         15 non-null     object \n",
            " 15  Remark                                                                                             6 non-null      object \n",
            " 16  Development Lead                                                                                   17 non-null     object \n",
            " 17  What happened?                                                                                     19 non-null     object \n",
            " 18  Are related requirements recorded in the BR or UCS?                                                18 non-null     object \n",
            " 19  If prior response is \"Yes\", list down the BR or UCS document number(s) and clause identifier(s)    3 non-null      object \n",
            " 20  Why was defect introduced?                                                                         17 non-null     object \n",
            " 21  What could have been done to avoid introduction of defect?                                         19 non-null     object \n",
            " 22  Primary Root Cause Classification #1                                                               18 non-null     object \n",
            " 23  Primary Root Cause Classification #2                                                               18 non-null     object \n",
            " 24  Remark.1                                                                                           2 non-null      object \n",
            " 25  Proposed solution to prevent recurrence                                                            14 non-null     object \n",
            " 26  Test Lead                                                                                          18 non-null     object \n",
            " 27  Why defect was not identifierd during testing?                                                     19 non-null     object \n",
            " 28  Are related requirements recorded in the BR or UCS?.1                                              19 non-null     object \n",
            " 29  If prior response is \"Yes\", list down the BR or UCS document number(s) and clause identifier(s).1  1 non-null      object \n",
            " 30  Primary Root Cause Classification #3                                                               19 non-null     object \n",
            " 31  Remark.2                                                                                           0 non-null      float64\n",
            " 32  Proposed solution to prevent recurrence.1                                                          19 non-null     object \n",
            "dtypes: float64(1), object(32)\n",
            "memory usage: 5.0+ KB\n"
          ]
        }
      ],
      "source": [
        "df.info()"
      ]
    },
    {
      "cell_type": "code",
      "execution_count": 7,
      "metadata": {},
      "outputs": [
        {
          "name": "stdout",
          "output_type": "stream",
          "text": [
            "Test & Production Environment Difference                                                                                                                                                                                                                                                                                                                                                                                                                                                                                                                     8\n",
            "Missing Test Case                                                                                                                                                                                                                                                                                                                                                                                                                                                                                                                                            4\n",
            "Test & Production Operation Difference                                                                                                                                                                                                                                                                                                                                                                                                                                                                                                                       3\n",
            "RS138 & BS39\\nThe impact was documented in RS138 \"CBT External Interfaces and Data Transferred Between Systems_6Jan2022.xls\" for discussion in RS138 progress meeting.\\n\\nRoot Cause for missing test case\\nAs full testing needs much more time than the representative testing for the system upgrades, test cases were chosen based on the impact to the underlying middleware and interfaces. As the middleware in all tiers are the same, regression test case for Deferred refund test case on Card manager was chosen but not on Transit acquirer.    1\n",
            "DR can only performed in TL device. Need TL and EZL support for DR testing.                                                                                                                                                                                                                                                                                                                                                                                                                                                                                  1\n",
            "Missed raising the defect in ialm system                                                                                                                                                                                                                                                                                                                                                                                                                                                                                                                     1\n",
            "Root Cause for missing test case\\nAs full testing needs much more time than the representative testing for the system upgrades, test cases were chosen based on the impact to the underlying middleware and interfaces. As the middleware in all tiers are the same, regression test case for Concession Extension test case was chosen only for Student card and not WTCS card.                                                                                                                                                                             1\n",
            "Name: Primary Root Cause Classification #3, dtype: int64\n"
          ]
        }
      ],
      "source": [
        "root_causes = df['Primary Root Cause Classification #3']\n",
        "print(df['Primary Root Cause Classification #3'].value_counts())\n",
        "rc_count = root_causes.sum()"
      ]
    },
    {
      "attachments": {},
      "cell_type": "markdown",
      "metadata": {},
      "source": [
        "# Data Cleaning"
      ]
    },
    {
      "attachments": {},
      "cell_type": "markdown",
      "metadata": {},
      "source": [
        "New column \"uncaught reasons\" -- Why defect was not identified during testing\n",
        "\n",
        "We want to identify the keywords from this column that can allow us to pinpoint the underlying root cause.\n",
        "Example:\n",
        "\n",
        "Tester input: use case was not documented, so the feature is unknown to the testers, so they didn’t design with it in mind.\n",
        "\n",
        "map above to:\n",
        "\n",
        "Root cause: ‘Missing requirement’\n",
        "\n",
        "To do this, we first have to clean the text in the column to ensure that the keywords are as similar as possible (to ensure highest chance of mapping correctly)."
      ]
    },
    {
      "cell_type": "code",
      "execution_count": 11,
      "metadata": {},
      "outputs": [
        {
          "data": {
            "text/plain": [
              "0    Test cases was not chosen in all tiers for con...\n",
              "1    Test cases was not chosen based on the impact ...\n",
              "2    Test cases was not chosen based on the impact ...\n",
              "3                      Issue not observed in Test Lab.\n",
              "4                      Issue not observed in Test Lab.\n",
              "Name: uncaught_reasons, dtype: object"
            ]
          },
          "execution_count": 11,
          "metadata": {},
          "output_type": "execute_result"
        }
      ],
      "source": [
        "df['uncaught_reasons'] = df['Why defect was not identifierd during testing?']\n",
        "df['uncaught_reasons'].head()"
      ]
    },
    {
      "cell_type": "code",
      "execution_count": 9,
      "metadata": {},
      "outputs": [],
      "source": [
        "# define lemmatize functions\n",
        "\n",
        "stop = set(stopwords.words('english'))\n",
        "stop.update(['and', 'to', 'the', 'of', 'a', 'in', 'with', 'for', 'our', 'is', 'we', 'you', 'are', 'as', 'be', 'on', 'that', 'or'])\n",
        "punctuation = list(string.punctuation)\n",
        "stop.update(punctuation)\n",
        "\n",
        "def get_simple_pos(tag):\n",
        "    if tag.startswith('J'):\n",
        "        return wordnet.ADJ\n",
        "    elif tag.startswith('V'):\n",
        "        return wordnet.VERB\n",
        "    elif tag.startswith('N'):\n",
        "        return wordnet.NOUN\n",
        "    elif tag.startswith('R'):\n",
        "        return wordnet.ADV\n",
        "    else:\n",
        "        return wordnet.NOUN\n",
        "\n",
        "lemmatizer = WordNetLemmatizer()\n",
        "def lemmatize_words(text):\n",
        "    final_text = []\n",
        "    for i in text.split():\n",
        "        if i.strip().lower() not in stop:\n",
        "            pos = pos_tag([i.strip()])\n",
        "            word = lemmatizer.lemmatize(i.strip(),get_simple_pos(pos[0][1]))\n",
        "            final_text.append(word.lower())\n",
        "    return \" \".join(final_text)"
      ]
    },
    {
      "cell_type": "code",
      "execution_count": 18,
      "metadata": {},
      "outputs": [],
      "source": [
        "def remove_punctuations(text):\n",
        "    b = re.sub(r'[^\\w]', ' ', text)\n",
        "    return b"
      ]
    },
    {
      "cell_type": "code",
      "execution_count": 24,
      "metadata": {},
      "outputs": [
        {
          "data": {
            "text/plain": [
              "0    test case chosen tier concession period pa bas...\n",
              "1                test case chosen base impact analysis\n",
              "2                test case chosen base impact analysis\n",
              "3                               issue observe test lab\n",
              "4                               issue observe test lab\n",
              "Name: uncaught_reasons, dtype: object"
            ]
          },
          "execution_count": 24,
          "metadata": {},
          "output_type": "execute_result"
        }
      ],
      "source": [
        "def clean_text(text):\n",
        "    text = text.lower()\n",
        "    # text = contractions.fix(text)\n",
        "    text = remove_punctuations(text)\n",
        "    text = ' '.join([word for word in text.split()])\n",
        "    text = lemmatize_words(text)\n",
        "    return text\n",
        "\n",
        "df['uncaught_reasons'] = df['uncaught_reasons'].apply(clean_text)\n",
        "df['uncaught_reasons'].head()"
      ]
    },
    {
      "attachments": {},
      "cell_type": "markdown",
      "metadata": {},
      "source": [
        "# Analysis on Root Causes"
      ]
    },
    {
      "cell_type": "markdown",
      "metadata": {},
      "source": []
    },
    {
      "attachments": {},
      "cell_type": "markdown",
      "metadata": {},
      "source": [
        "# NLP Model for Textual Classification"
      ]
    },
    {
      "cell_type": "markdown",
      "metadata": {},
      "source": []
    }
  ],
  "metadata": {
    "colab": {
      "provenance": []
    },
    "kernelspec": {
      "display_name": "Python 3.9.7 ('base')",
      "language": "python",
      "name": "python3"
    },
    "language_info": {
      "codemirror_mode": {
        "name": "ipython",
        "version": 3
      },
      "file_extension": ".py",
      "mimetype": "text/x-python",
      "name": "python",
      "nbconvert_exporter": "python",
      "pygments_lexer": "ipython3",
      "version": "3.9.7 (default, Sep 16 2021, 08:50:36) \n[Clang 10.0.0 ]"
    },
    "vscode": {
      "interpreter": {
        "hash": "55d22b35260bbaa19b38484025ecfa8720a645bca7c60f3a527ee7e8e11307f6"
      }
    }
  },
  "nbformat": 4,
  "nbformat_minor": 0
}
